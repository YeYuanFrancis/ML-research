{
 "cells": [
  {
   "cell_type": "code",
   "execution_count": null,
   "id": "e3eda462-7ca0-4993-9cd7-cb9e6780045f",
   "metadata": {
    "collapsed": true,
    "jupyter": {
     "outputs_hidden": true
    },
    "tags": []
   },
   "outputs": [],
   "source": [
    "# pip install xgboost\n",
    "# !pip install autots\n",
    "# !pip install tensorflow"
   ]
  },
  {
   "cell_type": "code",
   "execution_count": null,
   "id": "84396f5f-13c9-4eef-8653-1ee5b6d51d73",
   "metadata": {
    "tags": []
   },
   "outputs": [],
   "source": [
    "from statsmodels.tsa.ar_model import AutoReg\n",
    "from random import random\n",
    "import pandas as pd\n",
    "from statsmodels.tsa.stattools import adfuller\n",
    "import warnings\n",
    "warnings.filterwarnings(\"ignore\")\n",
    "import statsmodels.api as sm\n",
    "from statsmodels.tsa.arima.model import ARIMA\n",
    "from sklearn.linear_model import LinearRegression\n",
    "import matplotlib.pyplot as plt\n",
    "import numpy as np\n",
    "from scipy.stats import linregress\n",
    "from sklearn.neighbors import KNeighborsClassifier\n",
    "import seaborn as sns\n",
    "from sklearn import metrics\n",
    "from sklearn.metrics import classification_report\n",
    "from sklearn.model_selection import train_test_split\n",
    "from sklearn.ensemble import RandomForestClassifier\n",
    "from sklearn import tree\n",
    "from sklearn.linear_model import LogisticRegression\n",
    "import xgboost as xgb\n",
    "from sklearn.model_selection import cross_val_score, KFold\n",
    "from sklearn.model_selection import cross_val_predict\n",
    "from sklearn.svm import SVR\n",
    "from sklearn.metrics import mean_squared_error\n",
    "from sklearn.metrics import r2_score"
   ]
  },
  {
   "cell_type": "code",
   "execution_count": null,
   "id": "9c963e14-6909-4bb0-bcd0-12929f82c088",
   "metadata": {
    "tags": []
   },
   "outputs": [],
   "source": [
    "prior10mean = pd.read_csv('C:\\\\Users\\\\Francisyey\\\\research\\\\meanandstd_all_prior10days.csv')\n",
    "prior10mean"
   ]
  },
  {
   "cell_type": "code",
   "execution_count": null,
   "id": "cc820296-efc1-4b43-961d-6399f2306e78",
   "metadata": {},
   "outputs": [],
   "source": []
  },
  {
   "cell_type": "code",
   "execution_count": null,
   "id": "d4b1183d-784c-4253-8946-f25b11672253",
   "metadata": {
    "tags": []
   },
   "outputs": [],
   "source": [
    "columns_to_average = ['TE_tp_1of3_sr_1sec_mean','TE_tp_2of3_sr_1sec_mean','TE_tp_3of3_sr_1sec_mean',\n",
    "                      'TE_tp_1of3_sr_2sec_mean','TE_tp_2of3_sr_2sec_mean','TE_tp_3of3_sr_2sec_mean',\n",
    "                      'TE_tp_1of3_sr_3sec_mean','TE_tp_2of3_sr_3sec_mean','TE_tp_3of3_sr_3sec_mean',\n",
    "                      'TE_tp_1of3_sr_5sec_mean','TE_tp_2of3_sr_5sec_mean','TE_tp_3of3_sr_5sec_mean',\n",
    "                      'TE_tp_1of3_sr_6sec_mean','TE_tp_2of3_sr_6sec_mean','TE_tp_3of3_sr_6sec_mean']"
   ]
  },
  {
   "cell_type": "code",
   "execution_count": null,
   "id": "6c9a5232-cb8c-402e-9ced-558f3e6a56c8",
   "metadata": {
    "tags": []
   },
   "outputs": [],
   "source": [
    "column_mean = prior10mean[columns_to_average].mean(axis=1)\n",
    "prior10mean_average = pd.DataFrame({'Date': prior10mean['10daysbefore'], 'Average_TE_prior10days': column_mean})\n",
    "prior10mean_average['Date'] = prior10mean_average['Date'].astype(int)\n",
    "prior10mean_average"
   ]
  },
  {
   "cell_type": "code",
   "execution_count": null,
   "id": "87691234-91b3-4d6d-93eb-9286963ab3f2",
   "metadata": {
    "tags": []
   },
   "outputs": [],
   "source": [
    "prior10_density = pd.read_csv('C:\\\\Users\\\\Francisyey\\\\research\\\\20201231_Stand_sumanddensity.csv')\n",
    "prior10_density"
   ]
  },
  {
   "cell_type": "code",
   "execution_count": null,
   "id": "5d9530c8-b61c-41b2-a0fc-1a8c682da833",
   "metadata": {
    "tags": []
   },
   "outputs": [],
   "source": [
    "columns_to_average = ['TE_tp_1of3_sr_1sec_standarized_density','TE_tp_2of3_sr_1sec_standarized_density','TE_tp_3of3_sr_1sec_standarized_density',\n",
    "                      'TE_tp_1of3_sr_2sec_standarized_density','TE_tp_2of3_sr_2sec_standarized_density','TE_tp_3of3_sr_2sec_standarized_density',\n",
    "                      'TE_tp_1of3_sr_3sec_standarized_density','TE_tp_2of3_sr_3sec_standarized_density','TE_tp_3of3_sr_3sec_standarized_density',\n",
    "                      'TE_tp_1of3_sr_5sec_standarized_density','TE_tp_2of3_sr_5sec_standarized_density','TE_tp_3of3_sr_5sec_standarized_density',\n",
    "                      'TE_tp_1of3_sr_6sec_standarized_density','TE_tp_2of3_sr_6sec_standarized_density','TE_tp_3of3_sr_6sec_standarized_density']\n",
    "column_mean = prior10_density[columns_to_average].mean(axis = 1)\n",
    "prior10_density_average = pd.DataFrame({'Date': prior10_density['DATE_dat'], 'Average_standarized_density': column_mean})\n",
    "prior10_density_average['Date'] = prior10_density_average['Date'].astype(int)\n",
    "prior10_density_average"
   ]
  },
  {
   "cell_type": "code",
   "execution_count": null,
   "id": "30996b71-8123-4e95-88cf-3e9ef84b15d4",
   "metadata": {
    "tags": []
   },
   "outputs": [],
   "source": [
    "columns_to_average = ['TE_tp_1of3_sr_1sec_std','TE_tp_2of3_sr_1sec_std','TE_tp_3of3_sr_1sec_std',\n",
    "                      'TE_tp_1of3_sr_2sec_std','TE_tp_2of3_sr_2sec_std','TE_tp_3of3_sr_2sec_std',\n",
    "                      'TE_tp_1of3_sr_3sec_std','TE_tp_2of3_sr_3sec_std','TE_tp_3of3_sr_3sec_std',\n",
    "                      'TE_tp_1of3_sr_5sec_std','TE_tp_2of3_sr_5sec_std','TE_tp_3of3_sr_5sec_std',\n",
    "                      'TE_tp_1of3_sr_6sec_std','TE_tp_2of3_sr_6sec_std','TE_tp_3of3_sr_6sec_std']\n",
    "column_std = prior10mean[columns_to_average].mean(axis=1)\n",
    "prior10std_average = pd.DataFrame({'Date': prior10mean['10daysbefore'], 'Average_TEstd_prior10days': column_std})\n",
    "prior10std_average['Date'] = prior10mean_average['Date'].astype(int)\n",
    "prior10std_average"
   ]
  },
  {
   "cell_type": "code",
   "execution_count": null,
   "id": "d30799e9-3799-482c-8ce9-3327635acf49",
   "metadata": {
    "tags": []
   },
   "outputs": [],
   "source": [
    "everyday_TEmean = pd.read_csv('C:\\\\Users\\\\Francisyey\\\\research\\\\everyday_mean.csv')\n",
    "everyday_TEmean"
   ]
  },
  {
   "cell_type": "code",
   "execution_count": null,
   "id": "2e3e8fc9-d99e-45a4-9a38-49d27281f52e",
   "metadata": {
    "tags": []
   },
   "outputs": [],
   "source": [
    "columns_to_average = ['TE_tp_1of3_sr_1sec_mean','TE_tp_2of3_sr_1sec_mean','TE_tp_3of3_sr_1sec_mean',\n",
    "                      'TE_tp_1of3_sr_2sec_mean','TE_tp_2of3_sr_2sec_mean','TE_tp_3of3_sr_2sec_mean',\n",
    "                      'TE_tp_1of3_sr_3sec_mean','TE_tp_2of3_sr_3sec_mean','TE_tp_3of3_sr_3sec_mean',\n",
    "                      'TE_tp_1of3_sr_5sec_mean','TE_tp_2of3_sr_5sec_mean','TE_tp_3of3_sr_5sec_mean',\n",
    "                      'TE_tp_1of3_sr_6sec_mean','TE_tp_2of3_sr_6sec_mean','TE_tp_3of3_sr_6sec_mean']\n",
    "column_mean = everyday_TEmean[columns_to_average].mean(axis=1)\n",
    "TEmean_today = pd.DataFrame({'Date': everyday_TEmean['Date'], 'Average_TE_today': column_mean})\n",
    "TEmean_today['Date'] = TEmean_today['Date'].astype(int)\n",
    "print(TEmean_today)"
   ]
  },
  {
   "cell_type": "code",
   "execution_count": null,
   "id": "fc869cff-59c2-4de7-8941-97e038404b61",
   "metadata": {
    "tags": []
   },
   "outputs": [],
   "source": [
    "columns_to_average = ['TE_tp_1of3_sr_1sec_std','TE_tp_2of3_sr_1sec_std','TE_tp_3of3_sr_1sec_std',\n",
    "                      'TE_tp_1of3_sr_2sec_std','TE_tp_2of3_sr_2sec_std','TE_tp_3of3_sr_2sec_std',\n",
    "                      'TE_tp_1of3_sr_3sec_std','TE_tp_2of3_sr_3sec_std','TE_tp_3of3_sr_3sec_std',\n",
    "                      'TE_tp_1of3_sr_5sec_std','TE_tp_2of3_sr_5sec_std','TE_tp_3of3_sr_5sec_std',\n",
    "                      'TE_tp_1of3_sr_6sec_std','TE_tp_2of3_sr_6sec_std','TE_tp_3of3_sr_6sec_std']\n",
    "column_mean = everyday_TEmean[columns_to_average].mean(axis=1)\n",
    "TEstd_today = pd.DataFrame({'Date': everyday_TEmean['Date'], 'TE_std_today': column_mean})\n",
    "TEstd_today['Date'] = TEmean_today['Date'].astype(int)\n",
    "print(TEstd_today)"
   ]
  },
  {
   "cell_type": "code",
   "execution_count": null,
   "id": "d2435682-74c5-4da2-afff-0b47ef4ed971",
   "metadata": {
    "tags": []
   },
   "outputs": [],
   "source": [
    "features = pd.merge(right = prior10mean_average, left = prior10_density_average, how = 'inner', on= 'Date')\n",
    "features = pd.merge(right = features, left = prior10std_average, how = 'inner', on= 'Date')\n",
    "features = pd.merge(right = features, left = TEmean_today, how = 'inner', on= 'Date')\n",
    "features = pd.merge(right = features, left = TEstd_today, how = 'inner', on= 'Date')\n",
    "features"
   ]
  },
  {
   "cell_type": "code",
   "execution_count": null,
   "id": "d6444b89-f837-4eb6-adf0-4ad5e6aefd72",
   "metadata": {
    "tags": []
   },
   "outputs": [],
   "source": [
    "features_columns = ['TE_std_today','Average_TE_today',  'Average_TEstd_prior10days','Average_standarized_density','Average_TE_prior10days']\n",
    "for i in features_columns:\n",
    "    temp = i + '_norm'\n",
    "    features[temp] = (features[i] - features[i].min()) / (features[i].max() - features[i].min()) # normalization\n",
    "features = features[['Date','TE_std_today_norm','Average_TE_today_norm', 'Average_TEstd_prior10days_norm','Average_standarized_density_norm','Average_TE_prior10days_norm']]\n",
    "features"
   ]
  },
  {
   "cell_type": "code",
   "execution_count": null,
   "id": "99e9f628-5bca-459a-b95a-83d787a09bfc",
   "metadata": {},
   "outputs": [],
   "source": [
    "ff = pd.read_csv('C:\\\\Users\\\\Francisyey\\\\research\\\\FF_extracted.csv')\n",
    "ff.rename(columns = {'Unnamed: 0':'Date'}, inplace = True)\n",
    "ff[['Mkt-RF', 'SMB', 'HML', 'RF']] = ff[['Mkt-RF', 'SMB', 'HML', 'RF']]/100\n",
    "ff = ff[['Date','Mkt-RF']]\n",
    "ff"
   ]
  },
  {
   "cell_type": "code",
   "execution_count": null,
   "id": "a3e1a617-8ee2-4fa5-838f-cf43afb4eebd",
   "metadata": {
    "tags": []
   },
   "outputs": [],
   "source": [
    "df_merged = pd.merge(right = features, left = ff, how = 'inner', on = 'Date')\n",
    "df_merged"
   ]
  },
  {
   "cell_type": "code",
   "execution_count": null,
   "id": "0e4a7261-b95b-4fc0-b8ed-e89675eff066",
   "metadata": {
    "tags": []
   },
   "outputs": [],
   "source": [
    "def map_to_deciles(x):\n",
    "    return pd.qcut(x, 4, labels=False, duplicates='raise') + 1\n",
    "df_merged['Mkt-RF_quartile'] = df_merged['Mkt-RF'].transform(map_to_deciles)\n",
    "df_merged"
   ]
  },
  {
   "cell_type": "markdown",
   "id": "79be00ef-8ba0-4a45-87a8-09fffc467474",
   "metadata": {},
   "source": [
    "# EDA"
   ]
  },
  {
   "cell_type": "code",
   "execution_count": null,
   "id": "208467b6-abcd-4cf1-b827-eaaac190042d",
   "metadata": {
    "tags": []
   },
   "outputs": [],
   "source": [
    "columns_for_pairplot = ['Mkt-RF', 'TE_std_today_norm', 'Average_TE_today_norm', 'Average_standarized_density_norm',\n",
    "                        'Average_TE_prior10days_norm','Average_TEstd_prior10days_norm']\n",
    "columns_for_pairplot_with_color = columns_for_pairplot + ['Mkt-RF_quartile']\n",
    "sns.pairplot(df_merged[columns_for_pairplot_with_color], hue='Mkt-RF_quartile', palette='viridis')\n",
    "plt.show()"
   ]
  },
  {
   "cell_type": "markdown",
   "id": "4b9a2265-1075-4b34-a278-990f99ba92bb",
   "metadata": {},
   "source": [
    "# KNN"
   ]
  },
  {
   "cell_type": "code",
   "execution_count": null,
   "id": "92410428-d434-4c69-bbcf-a2d4f99c948c",
   "metadata": {
    "tags": []
   },
   "outputs": [],
   "source": [
    "X = df_merged[['Average_standarized_density_norm', 'Average_TE_prior10days_norm', \n",
    "               'Average_TE_today_norm', 'TE_std_today_norm','Average_TEstd_prior10days_norm']]\n",
    "Y = df_merged['Mkt-RF_quartile']\n",
    "\n",
    "error_rate = []\n",
    "for i in range(1,10):\n",
    "    knn = KNeighborsClassifier(n_neighbors=i)\n",
    "    knn.fit(X, Y)\n",
    "    pred_i = knn.predict(X)\n",
    "    error_rate.append(np.mean(pred_i != Y))\n",
    "    \n",
    "plt.figure(figsize=(10,6))\n",
    "plt.plot(range(1,10),error_rate,color='blue', linestyle='dashed', marker='o',\n",
    "markerfacecolor='red', markersize=10)\n",
    "plt.title('Error Rate vs. K Value')\n",
    "plt.xlabel('K')\n",
    "plt.ylabel('Error Rate')"
   ]
  },
  {
   "cell_type": "code",
   "execution_count": null,
   "id": "ea08c0bf-6e41-4f25-813f-942f7c700bca",
   "metadata": {
    "tags": []
   },
   "outputs": [],
   "source": [
    "knn = KNeighborsClassifier(n_neighbors = 5)\n",
    "knn.fit(X, Y)\n",
    "Y_pred=knn.predict(X)\n",
    "\n",
    "confusion_matrix = pd.crosstab(Y, Y_pred, rownames=['Actual'], colnames=['Predicted'])\n",
    "cm_np = confusion_matrix.to_numpy()\n",
    "cm_normalized = cm_np.astype('float') / cm_np.sum(axis=1)[:, np.newaxis]\n",
    "\n",
    "sns.heatmap(cm_normalized, annot=True,xticklabels=['Predicted 1', 'Predicted 2', 'Predicted 3', 'Predicted 4'], \n",
    "      yticklabels=['Actual 1', 'Actual 2', 'Actual 3', 'Actual 4'])\n",
    "\n",
    "print('Accuracy: ',metrics.accuracy_score(Y, Y_pred))\n",
    "plt.show()\n",
    "print(classification_report(Y, Y_pred))"
   ]
  },
  {
   "cell_type": "code",
   "execution_count": null,
   "id": "a0f8136f-7bed-4979-a223-98a9b3cccbaa",
   "metadata": {
    "tags": []
   },
   "outputs": [],
   "source": [
    "X_train,X_test,Y_train,Y_test = train_test_split(X,Y,test_size=0.30,random_state=0)\n",
    "knn = KNeighborsClassifier(n_neighbors = 5)\n",
    "knn.fit(X_train,Y_train)\n",
    "Y_pred=knn.predict(X_test)\n",
    "\n",
    "confusion_matrix = pd.crosstab(Y_test, Y_pred, rownames=['Actual'], colnames=['Predicted'])\n",
    "cm_np = confusion_matrix.to_numpy()\n",
    "cm_normalized = cm_np.astype('float') / cm_np.sum(axis=1)[:, np.newaxis]\n",
    "sns.heatmap(cm_normalized, annot=True,xticklabels=['Predicted 1', 'Predicted 2', 'Predicted 3', 'Predicted 4'], \n",
    "      yticklabels=['Actual 1', 'Actual 2', 'Actual 3', 'Actual 4'])\n",
    "\n",
    "print('Accuracy: ',metrics.accuracy_score(Y_test, Y_pred))\n",
    "plt.show()\n",
    "print(classification_report(Y_test, Y_pred))"
   ]
  },
  {
   "cell_type": "code",
   "execution_count": null,
   "id": "7ba193b0-db29-4a49-aaac-240e5b622d47",
   "metadata": {
    "tags": []
   },
   "outputs": [],
   "source": [
    "knn = KNeighborsClassifier(n_neighbors=5)\n",
    "\n",
    "Y_pred_cv = cross_val_predict(knn, X, Y, cv=5)\n",
    "\n",
    "confusion_matrix = pd.crosstab(Y, Y_pred_cv, rownames=['Actual'], colnames=['Predicted'])\n",
    "cm_np = confusion_matrix.to_numpy()\n",
    "cm_normalized = cm_np.astype('float') / cm_np.sum(axis=1)[:, np.newaxis]\n",
    "\n",
    "sns.heatmap(cm_normalized, annot=True,xticklabels=['Predicted 1', 'Predicted 2', 'Predicted 3', 'Predicted 4'], \n",
    "      yticklabels=['Actual 1', 'Actual 2', 'Actual 3', 'Actual 4'])\n",
    "\n",
    "print('Accuracy: ',metrics.accuracy_score(Y, Y_pred_cv))\n",
    "plt.show()\n",
    "\n",
    "classification_rep = classification_report(Y, Y_pred_cv)\n",
    "print(f'Classification Report:\\n{classification_rep}')"
   ]
  },
  {
   "cell_type": "markdown",
   "id": "a9bda420-4f1b-4bad-8a20-739558bd4d2b",
   "metadata": {},
   "source": [
    "# Random Forest"
   ]
  },
  {
   "cell_type": "code",
   "execution_count": null,
   "id": "88a4a123-5e7b-499a-a7f6-437b0ca3f84f",
   "metadata": {
    "tags": []
   },
   "outputs": [],
   "source": [
    "clf = RandomForestClassifier(n_estimators=5)\n",
    "clf.fit(X,Y)\n",
    "Y_pred=clf.predict(X)\n",
    "\n",
    "confusion_matrix = pd.crosstab(Y, Y_pred, rownames=['Actual'], colnames=['Predicted'])\n",
    "cm_np = confusion_matrix.to_numpy()\n",
    "cm_normalized = cm_np.astype('float') / cm_np.sum(axis=1)[:, np.newaxis]\n",
    "sns.heatmap(cm_normalized, annot=True,xticklabels=['Predicted 1', 'Predicted 2', 'Predicted 3', 'Predicted 4'], \n",
    "      yticklabels=['Actual 1', 'Actual 2', 'Actual 3', 'Actual 4'])\n",
    "\n",
    "print('Accuracy: ',metrics.accuracy_score(Y, Y_pred))\n",
    "plt.show()\n",
    "\n",
    "importances = list(clf.feature_importances_)\n",
    "print (importances)\n",
    "print(classification_report(Y, Y_pred))"
   ]
  },
  {
   "cell_type": "code",
   "execution_count": null,
   "id": "d96ba3cd-1576-44a6-85d1-3ff088c028ed",
   "metadata": {
    "tags": []
   },
   "outputs": [],
   "source": [
    "clf = RandomForestClassifier(n_estimators=10)\n",
    "clf.fit(X_train,Y_train)\n",
    "Y_pred=clf.predict(X_test)\n",
    "\n",
    "confusion_matrix = pd.crosstab(Y_test, Y_pred, rownames=['Actual'], colnames=['Predicted'])\n",
    "cm_np = confusion_matrix.to_numpy()\n",
    "cm_normalized = cm_np.astype('float') / cm_np.sum(axis=1)[:, np.newaxis]\n",
    "sns.heatmap(cm_normalized, annot=True,xticklabels=['Predicted 1', 'Predicted 2', 'Predicted 3', 'Predicted 4'], \n",
    "      yticklabels=['Actual 1', 'Actual 2', 'Actual 3', 'Actual 4'])\n",
    "\n",
    "print('Accuracy: ',metrics.accuracy_score(Y_test, Y_pred))\n",
    "plt.show()\n",
    "\n",
    "importances = list(clf.feature_importances_)\n",
    "print (importances)\n",
    "print(classification_report(Y_test, Y_pred))"
   ]
  },
  {
   "cell_type": "code",
   "execution_count": null,
   "id": "b9495b4d-7f94-4676-ad1e-bfbbde24327a",
   "metadata": {
    "tags": []
   },
   "outputs": [],
   "source": [
    "clf = RandomForestClassifier(n_estimators=10)\n",
    "\n",
    "Y_pred_cv = cross_val_predict(clf, X, Y, cv=5)\n",
    "\n",
    "confusion_matrix = pd.crosstab(Y, Y_pred_cv, rownames=['Actual'], colnames=['Predicted'])\n",
    "cm_np = confusion_matrix.to_numpy()\n",
    "cm_normalized = cm_np.astype('float') / cm_np.sum(axis=1)[:, np.newaxis]\n",
    "\n",
    "sns.heatmap(cm_normalized, annot=True,xticklabels=['Predicted 1', 'Predicted 2', 'Predicted 3', 'Predicted 4'], \n",
    "      yticklabels=['Actual 1', 'Actual 2', 'Actual 3', 'Actual 4'])\n",
    "\n",
    "print('Accuracy: ',metrics.accuracy_score(Y, Y_pred_cv))\n",
    "plt.show()\n",
    "\n",
    "classification_rep = classification_report(Y, Y_pred_cv)\n",
    "print(f'Classification Report:\\n{classification_rep}')"
   ]
  },
  {
   "cell_type": "markdown",
   "id": "91572102-1b43-4a2c-ab47-c5de774948a3",
   "metadata": {},
   "source": [
    "# Logistic Regression"
   ]
  },
  {
   "cell_type": "code",
   "execution_count": null,
   "id": "9495a332-0504-47d4-9ee2-14f5f839b94b",
   "metadata": {
    "tags": []
   },
   "outputs": [],
   "source": [
    "# clf = LogisticRegression(penalty='l1', solver='liblinear')\n",
    "logistic_regression= LogisticRegression(penalty='l2', solver='liblinear')\n",
    "clf.fit(X,Y)\n",
    "Y_pred=clf.predict(X)\n",
    "\n",
    "confusion_matrix = pd.crosstab(Y, Y_pred, rownames=['Actual'], colnames=['Predicted'])\n",
    "cm_np = confusion_matrix.to_numpy()\n",
    "cm_normalized = cm_np.astype('float') / cm_np.sum(axis=1)[:, np.newaxis]\n",
    "sns.heatmap(cm_normalized, annot=True,xticklabels=['Predicted 1', 'Predicted 2', 'Predicted 3', 'Predicted 4'], \n",
    "      yticklabels=['Actual 1', 'Actual 2', 'Actual 3', 'Actual 4'])\n",
    "\n",
    "print('Accuracy: ',metrics.accuracy_score(Y, Y_pred))\n",
    "plt.show()\n",
    "\n",
    "print(classification_report(Y, Y_pred))"
   ]
  },
  {
   "cell_type": "code",
   "execution_count": null,
   "id": "10bd376d-3c57-49d5-a6ed-5765ace6d067",
   "metadata": {
    "tags": []
   },
   "outputs": [],
   "source": [
    "logistic_regression= LogisticRegression(penalty='l1', solver='liblinear')\n",
    "#logistic_regression= LogisticRegression(penalty='l2', solver='liblinear')\n",
    "logistic_regression.fit(X_train,Y_train)\n",
    "Y_pred=logistic_regression.predict(X_test)\n",
    "\n",
    "print('Coefficients', logistic_regression.intercept_, logistic_regression.coef_)\n",
    "\n",
    "confusion_matrix = pd.crosstab(Y_test, Y_pred, rownames=['Actual'], colnames=['Predicted'])\n",
    "cm_np = confusion_matrix.to_numpy()\n",
    "cm_normalized = cm_np.astype('float') / cm_np.sum(axis=1)[:, np.newaxis]\n",
    "sns.heatmap(cm_normalized, annot=True,xticklabels=['Predicted 1', 'Predicted 2', 'Predicted 3', 'Predicted 4'], \n",
    "      yticklabels=['Actual 1', 'Actual 2', 'Actual 3', 'Actual 4'])\n",
    "\n",
    "\n",
    "print('Accuracy: ',metrics.accuracy_score(Y_test, Y_pred))\n",
    "plt.show()\n",
    "\n",
    "#print (X_test)\n",
    "#print (Y_pred)\n",
    "\n",
    "print(classification_report(Y_test, Y_pred))"
   ]
  },
  {
   "cell_type": "code",
   "execution_count": null,
   "id": "e90ea26b-0cd7-4721-8a93-2baf5e37810a",
   "metadata": {
    "tags": []
   },
   "outputs": [],
   "source": [
    "logistic_regression= LogisticRegression(penalty='l1', solver='liblinear')\n",
    "\n",
    "Y_pred_cv = cross_val_predict(logistic_regression, X, Y, cv=5)\n",
    "\n",
    "confusion_matrix = pd.crosstab(Y, Y_pred_cv, rownames=['Actual'], colnames=['Predicted'])\n",
    "cm_np = confusion_matrix.to_numpy()\n",
    "cm_normalized = cm_np.astype('float') / cm_np.sum(axis=1)[:, np.newaxis]\n",
    "\n",
    "sns.heatmap(cm_normalized, annot=True,xticklabels=['Predicted 1', 'Predicted 2', 'Predicted 3', 'Predicted 4'], \n",
    "      yticklabels=['Actual 1', 'Actual 2', 'Actual 3', 'Actual 4'])\n",
    "\n",
    "print('Accuracy: ',metrics.accuracy_score(Y, Y_pred_cv))\n",
    "plt.show()\n",
    "\n",
    "classification_rep = classification_report(Y, Y_pred_cv)\n",
    "print(f'Classification Report:\\n{classification_rep}')"
   ]
  },
  {
   "cell_type": "markdown",
   "id": "8e56a816-693a-4b35-b35e-cd75f2cd7988",
   "metadata": {},
   "source": [
    "# XGboost"
   ]
  },
  {
   "cell_type": "code",
   "execution_count": null,
   "id": "a755baef-6dad-4aae-9137-1bcfe4367b27",
   "metadata": {
    "tags": []
   },
   "outputs": [],
   "source": [
    "df_merged"
   ]
  },
  {
   "cell_type": "code",
   "execution_count": null,
   "id": "ba90fba3-95f7-4fc3-828d-de92007ed068",
   "metadata": {
    "tags": []
   },
   "outputs": [],
   "source": [
    "from sklearn.preprocessing import LabelEncoder\n",
    "label_encoder = LabelEncoder()\n",
    "df_merged['Mkt-RF_quartile'] = label_encoder.fit_transform(df_merged['Mkt-RF_quartile'])\n",
    "\n",
    "X = df_merged[['Average_standarized_density_norm', 'Average_TE_prior10days_norm', \n",
    "               'Average_TE_today_norm', 'TE_std_today_norm','Average_TEstd_prior10days_norm']]\n",
    "Y = df_merged['Mkt-RF_quartile']\n",
    "\n",
    "# X_train, X_test, Y_train, Y_test = train_test_split(X, Y, test_size=0.3, random_state=0)\n",
    "\n",
    "num_classes = len(np.unique(Y))\n",
    "\n",
    "\n",
    "XGboost = xgb.XGBClassifier(\n",
    "    objective='multi:softmax', \n",
    "    num_class=num_classes,\n",
    "    max_depth=10,\n",
    "    learning_rate=0.1,\n",
    "    n_estimators=100\n",
    ")\n",
    "XGboost.fit(X, Y)\n",
    "Y_pred = XGboost.predict(X)\n",
    "Y_pred_original = label_encoder.inverse_transform(Y_pred)\n",
    "\n",
    "accuracy = metrics.accuracy_score(Y, Y_pred)\n",
    "print(f'Accuracy: {accuracy}')\n",
    "\n",
    "confusion_matrix = pd.crosstab(Y, Y_pred, rownames=['Actual'], colnames=['Predicted'])\n",
    "cm_np = confusion_matrix.to_numpy()\n",
    "cm_normalized = cm_np.astype('float') / cm_np.sum(axis=1)[:, np.newaxis]\n",
    "sns.heatmap(cm_normalized, annot=True, xticklabels=['Predicted 1', 'Predicted 2', 'Predicted 3', 'Predicted 4'], \n",
    "      yticklabels=['Actual 1', 'Actual 2', 'Actual 3', 'Actual 4'])\n",
    "plt.xlabel('Predicted')\n",
    "plt.ylabel('Actual')\n",
    "plt.show()\n",
    "classification_rep = classification_report(Y, Y_pred)\n",
    "print(f'Classification Report:\\n{classification_rep}')\n"
   ]
  },
  {
   "cell_type": "code",
   "execution_count": null,
   "id": "92b8d868-a19f-4d44-ab22-83f56ae270dd",
   "metadata": {},
   "outputs": [],
   "source": [
    "from sklearn.preprocessing import LabelEncoder\n",
    "label_encoder = LabelEncoder()\n",
    "df_merged['Mkt-RF_quartile'] = label_encoder.fit_transform(df_merged['Mkt-RF_quartile'])\n",
    "\n",
    "X = df_merged[['Average_standarized_density_norm', 'Average_TE_prior10days_norm', \n",
    "               'Average_TE_today_norm', 'TE_std_today_norm','Average_TEstd_prior10days_norm']]\n",
    "Y = df_merged['Mkt-RF_quartile']\n",
    "\n",
    "X_train, X_test, Y_train, Y_test = train_test_split(X, Y, test_size=0.3, random_state=0)\n",
    "\n",
    "num_classes = len(np.unique(Y))\n",
    "\n",
    "\n",
    "XGboost = xgb.XGBClassifier(\n",
    "    objective='multi:softmax', \n",
    "    num_class=num_classes,\n",
    "    max_depth=10,\n",
    "    learning_rate=0.1,\n",
    "    n_estimators=100\n",
    ")\n",
    "XGboost.fit(X_train, Y_train)\n",
    "Y_pred = XGboost.predict(X_test)\n",
    "Y_pred_original = label_encoder.inverse_transform(Y_pred)\n",
    "Y_test_original = label_encoder.inverse_transform(Y_test)\n",
    "\n",
    "\n",
    "accuracy = metrics.accuracy_score(Y_test_original, Y_pred_original)\n",
    "print(f'Accuracy: {accuracy}')\n",
    "\n",
    "confusion_matrix = pd.crosstab(Y_test, Y_pred, rownames=['Actual'], colnames=['Predicted'])\n",
    "cm_np = confusion_matrix.to_numpy()\n",
    "cm_normalized = cm_np.astype('float') / cm_np.sum(axis=1)[:, np.newaxis]\n",
    "sns.heatmap(cm_normalized, annot=True, xticklabels=['Predicted 1', 'Predicted 2', 'Predicted 3', 'Predicted 4'], \n",
    "      yticklabels=['Actual 1', 'Actual 2', 'Actual 3', 'Actual 4'])\n",
    "plt.xlabel('Predicted')\n",
    "plt.ylabel('Actual')\n",
    "plt.show()\n",
    "classification_rep = classification_report(Y_test, Y_pred)\n",
    "print(f'Classification Report:\\n{classification_rep}')\n"
   ]
  },
  {
   "cell_type": "code",
   "execution_count": null,
   "id": "a9ca33ff-c092-4657-9fd3-e0e58d6c3d1e",
   "metadata": {
    "tags": []
   },
   "outputs": [],
   "source": [
    "XGboost = xgb.XGBClassifier(\n",
    "    objective='multi:softmax', \n",
    "    num_class=num_classes,\n",
    "    max_depth=10,\n",
    "    learning_rate=0.1,\n",
    "    n_estimators=100\n",
    ")\n",
    "\n",
    "Y_pred_cv = cross_val_predict(XGboost, X, Y, cv=5)\n",
    "\n",
    "confusion_matrix = pd.crosstab(Y, Y_pred_cv, rownames=['Actual'], colnames=['Predicted'])\n",
    "cm_np = confusion_matrix.to_numpy()\n",
    "cm_normalized = cm_np.astype('float') / cm_np.sum(axis=1)[:, np.newaxis]\n",
    "\n",
    "sns.heatmap(cm_normalized, annot=True,xticklabels=['Predicted 1', 'Predicted 2', 'Predicted 3', 'Predicted 4'], \n",
    "      yticklabels=['Actual 1', 'Actual 2', 'Actual 3', 'Actual 4'])\n",
    "\n",
    "print('Accuracy: ',metrics.accuracy_score(Y, Y_pred_cv))\n",
    "plt.show()\n",
    "\n",
    "classification_rep = classification_report(Y, Y_pred_cv)\n",
    "print(f'Classification Report:\\n{classification_rep}')"
   ]
  },
  {
   "cell_type": "markdown",
   "id": "e82acbef-3b97-462f-bbb3-319c068e6027",
   "metadata": {},
   "source": [
    "# Neural Network"
   ]
  },
  {
   "cell_type": "code",
   "execution_count": null,
   "id": "8ed767a9-5547-41b5-aefc-3c4e99d0d9f2",
   "metadata": {
    "tags": []
   },
   "outputs": [],
   "source": [
    "from sklearn.neural_network import MLPClassifier\n",
    "X = df_merged[['Average_standarized_density_norm', 'Average_TE_prior10days_norm', \n",
    "               'Average_TE_today_norm', 'TE_std_today_norm','Average_TEstd_prior10days_norm']]\n",
    "Y = df_merged['Mkt-RF_quartile']\n",
    "# X_train,X_test,Y_train,Y_test = train_test_split(X,Y,test_size=0.30,random_state=0)\n",
    "clf = MLPClassifier(hidden_layer_sizes=(150,100,50),\n",
    "                       max_iter = 300,activation = 'relu',\n",
    "                       solver = 'adam')\n",
    "# clf = MLPClassifier(solver='lbfgs', \n",
    "#                    alpha=1e-2,\n",
    "#                    hidden_layer_sizes=(2,), \n",
    "#                    random_state=1)\n",
    "clf.fit(X, Y) \n",
    "Y_pred=clf.predict(X)\n",
    "confusion_matrix = pd.crosstab(Y, Y_pred, rownames=['Actual'], colnames=['Predicted'])\n",
    "cm_np = confusion_matrix.to_numpy()\n",
    "cm_normalized = cm_np.astype('float') / cm_np.sum(axis=1)[:, np.newaxis]\n",
    "\n",
    "\n",
    "accuracy = metrics.accuracy_score(Y, Y_pred)\n",
    "print(f'Accuracy: {accuracy}')\n",
    "plt.show()\n",
    "sns.heatmap(cm_normalized, annot=True, xticklabels=['Predicted 1', 'Predicted 2', 'Predicted 3', 'Predicted 4'], \n",
    "      yticklabels=['Actual 1', 'Actual 2', 'Actual 3', 'Actual 4'])\n",
    "plt.xlabel('Predicted')\n",
    "plt.ylabel('Actual')\n",
    "\n",
    "\n",
    "classification_rep = classification_report(Y, Y_pred)\n",
    "print(f'Classification Report:\\n{classification_rep}')"
   ]
  },
  {
   "cell_type": "code",
   "execution_count": null,
   "id": "aad1e664-01c3-485f-a1dd-c1b537048ef1",
   "metadata": {
    "tags": []
   },
   "outputs": [],
   "source": [
    "from sklearn.neural_network import MLPClassifier\n",
    "X = df_merged[['Average_standarized_density_norm', 'Average_TE_prior10days_norm', \n",
    "               'Average_TE_today_norm', 'TE_std_today_norm','Average_TEstd_prior10days_norm']]\n",
    "Y = df_merged['Mkt-RF_quartile']\n",
    "X_train,X_test,Y_train,Y_test = train_test_split(X,Y,test_size=0.30,random_state=0)\n",
    "clf = MLPClassifier(hidden_layer_sizes=(150,100,50),\n",
    "                       max_iter = 300,activation = 'relu',\n",
    "                       solver = 'adam')\n",
    "# clf = MLPClassifier(solver='lbfgs', \n",
    "#                    alpha=1e-2,\n",
    "#                    hidden_layer_sizes=(2,), \n",
    "#                    random_state=1)\n",
    "clf.fit(X_train, Y_train) \n",
    "Y_pred=clf.predict(X_test)\n",
    "confusion_matrix = pd.crosstab(Y_test, Y_pred, rownames=['Actual'], colnames=['Predicted'])\n",
    "cm_np = confusion_matrix.to_numpy()\n",
    "cm_normalized = cm_np.astype('float') / cm_np.sum(axis=1)[:, np.newaxis]\n",
    "\n",
    "\n",
    "accuracy = metrics.accuracy_score(Y_test, Y_pred)\n",
    "print(f'Accuracy: {accuracy}')\n",
    "plt.show()\n",
    "sns.heatmap(cm_normalized, annot=True, xticklabels=['Predicted 1', 'Predicted 2', 'Predicted 3', 'Predicted 4'], \n",
    "      yticklabels=['Actual 1', 'Actual 2', 'Actual 3', 'Actual 4'])\n",
    "plt.xlabel('Predicted')\n",
    "plt.ylabel('Actual')\n",
    "\n",
    "\n",
    "classification_rep = classification_report(Y_test, Y_pred)\n",
    "print(f'Classification Report:\\n{classification_rep}')"
   ]
  },
  {
   "cell_type": "code",
   "execution_count": null,
   "id": "7779877f-b575-4977-a9e6-9e6ff2cb0610",
   "metadata": {},
   "outputs": [],
   "source": [
    "clf = MLPClassifier(hidden_layer_sizes=(150,100,50),\n",
    "                       max_iter = 300,activation = 'relu',\n",
    "                       solver = 'adam')\n",
    "Y_pred_cv = cross_val_predict(clf, X, Y, cv=5)\n",
    "\n",
    "confusion_matrix = pd.crosstab(Y, Y_pred_cv, rownames=['Actual'], colnames=['Predicted'])\n",
    "cm_np = confusion_matrix.to_numpy()\n",
    "cm_normalized = cm_np.astype('float') / cm_np.sum(axis=1)[:, np.newaxis]\n",
    "\n",
    "sns.heatmap(cm_normalized, annot=True,xticklabels=['Predicted 1', 'Predicted 2', 'Predicted 3', 'Predicted 4'], \n",
    "      yticklabels=['Actual 1', 'Actual 2', 'Actual 3', 'Actual 4'])\n",
    "\n",
    "print('Accuracy: ',metrics.accuracy_score(Y, Y_pred_cv))\n",
    "plt.show()\n",
    "\n",
    "classification_rep = classification_report(Y, Y_pred_cv)\n",
    "print(f'Classification Report:\\n{classification_rep}')"
   ]
  },
  {
   "cell_type": "markdown",
   "id": "770279f3-103d-437c-978b-4f81e62a6f3e",
   "metadata": {},
   "source": [
    "# Regression"
   ]
  },
  {
   "cell_type": "code",
   "execution_count": null,
   "id": "16a39891-6762-4310-89cf-8bdb8084b248",
   "metadata": {
    "tags": []
   },
   "outputs": [],
   "source": [
    "X = df_merged[['Average_standarized_density_norm', 'Average_TE_prior10days_norm', \n",
    "               'Average_TE_today_norm', 'TE_std_today_norm','Average_TEstd_prior10days_norm']]\n",
    "Y = df_merged['Mkt-RF']"
   ]
  },
  {
   "cell_type": "markdown",
   "id": "5cdd2d4a-9887-4bd4-971b-9d8ff3b347b3",
   "metadata": {},
   "source": [
    "## SVR"
   ]
  },
  {
   "cell_type": "code",
   "execution_count": null,
   "id": "5c0f8f20-543b-4a00-8d02-a8d27007ff5f",
   "metadata": {
    "tags": []
   },
   "outputs": [],
   "source": [
    "svr = SVR(kernel='rbf', C=1.0, epsilon=0.2) # C: Regularization parameter; epsilon:low:Points far from hyperplane considered in calculation\n",
    "cv = KFold(n_splits=5, shuffle=True, random_state=42)  \n",
    "mse_scores = cross_val_score(svr, X, Y, scoring='neg_mean_squared_error', cv=cv)\n",
    "mse_scores = cross_val_score(svr, X, Y, scoring='neg_mean_squared_error')\n",
    "mse_scores_positive = -mse_scores\n",
    "mean_mse = np.mean(mse_scores_positive)\n",
    "print(f'Mean Cross-Validated MSE: {mean_mse}')\n",
    "print('Individual MSE Scores:', mse_scores_positive)\n",
    "Y_pred_cv = cross_val_predict(svr, X, Y, cv=cv)"
   ]
  },
  {
   "cell_type": "code",
   "execution_count": null,
   "id": "1571261d-e551-4eed-a3c6-4404e4a9af37",
   "metadata": {
    "tags": []
   },
   "outputs": [],
   "source": [
    "df_predicted_actual = pd.DataFrame({'Predicted_Mkt-RF': Y_pred_cv, 'Actual_Mkt-RF':Y})\n",
    "df_predicted_actual"
   ]
  },
  {
   "cell_type": "code",
   "execution_count": null,
   "id": "8a860437-416a-42c3-8a42-b545227e3504",
   "metadata": {
    "tags": []
   },
   "outputs": [],
   "source": [
    "from sklearn.metrics import r2_score\n",
    "\n",
    "r_squared = r2_score(df_predicted_actual['Actual_Mkt-RF'], df_predicted_actual['Predicted_Mkt-RF'])\n",
    "print(f'R-squared: {r_squared}')\n"
   ]
  },
  {
   "cell_type": "markdown",
   "id": "ab47d03d-7d6b-4199-88f6-7a99515fe4dd",
   "metadata": {},
   "source": [
    "# Nerual Network Regressor"
   ]
  },
  {
   "cell_type": "code",
   "execution_count": null,
   "id": "9505cadf-13b0-4b7d-82ee-a3417326948b",
   "metadata": {
    "tags": []
   },
   "outputs": [],
   "source": [
    "from sklearn.neural_network import MLPRegressor\n",
    "nn = MLPRegressor(hidden_layer_sizes=(100, 50), max_iter=500, random_state=0)\n",
    "# cv = KFold(n_splits=5, shuffle=True, random_state=42)\n",
    "mse_scores = cross_val_score(nn, X, Y, scoring='neg_mean_squared_error', cv=cv)\n",
    "mse_scores_positive = -mse_scores\n",
    "mean_mse = np.mean(mse_scores_positive)\n",
    "print(f'Mean Cross-Validated MSE: {mean_mse}')\n",
    "print('Individual MSE Scores:', mse_scores_positive)\n",
    "Y_pred_cv = cross_val_predict(nn, X, Y, cv=cv)"
   ]
  },
  {
   "cell_type": "code",
   "execution_count": null,
   "id": "bc3815e5-f38b-4a0c-9213-dd020b8b4da5",
   "metadata": {
    "tags": []
   },
   "outputs": [],
   "source": [
    "df_predicted_actual = pd.DataFrame({'Predicted_Mkt-RF': Y_pred_cv, 'Actual_Mkt-RF':Y})\n",
    "r_squared = r2_score(df_predicted_actual['Actual_Mkt-RF'], df_predicted_actual['Predicted_Mkt-RF'])\n",
    "print(f'R-squared: {r_squared}')"
   ]
  },
  {
   "cell_type": "markdown",
   "id": "d7759d3d-79ee-4c66-8a7a-bfb39da70c38",
   "metadata": {},
   "source": [
    "# Auto TS"
   ]
  },
  {
   "cell_type": "code",
   "execution_count": null,
   "id": "7727e78e-7fbc-4279-a846-8417ff86bbdf",
   "metadata": {
    "tags": []
   },
   "outputs": [],
   "source": [
    "from autots import AutoTS, load_daily\n"
   ]
  },
  {
   "cell_type": "code",
   "execution_count": null,
   "id": "f8dab786-1e32-4441-9aa6-2950e5bccdea",
   "metadata": {
    "tags": []
   },
   "outputs": [],
   "source": [
    "df_merged['Date'] = pd.to_datetime(df_merged['Date'], format='%Y%m%d', errors='coerce')\n",
    "df_merged.set_index('Date', inplace=True)"
   ]
  },
  {
   "cell_type": "code",
   "execution_count": null,
   "id": "92663c40-af22-4ac8-bdbd-fb267fc8d19a",
   "metadata": {
    "tags": []
   },
   "outputs": [],
   "source": [
    "df_merged2 = df_merged.drop('Mkt-RF_quartile', axis=1)"
   ]
  },
  {
   "cell_type": "code",
   "execution_count": null,
   "id": "97ebffc8-8114-46ff-b0f5-4f73826ce3b6",
   "metadata": {
    "tags": []
   },
   "outputs": [],
   "source": [
    "df_merged2"
   ]
  },
  {
   "cell_type": "code",
   "execution_count": 46,
   "id": "75dcb1ee-3fc2-417f-a66f-41546f4b6bcd",
   "metadata": {
    "collapsed": true,
    "jupyter": {
     "outputs_hidden": true
    },
    "tags": []
   },
   "outputs": [
    {
     "name": "stdout",
     "output_type": "stream",
     "text": [
      "Model Number: 341 with model VECM in generation 1 of 4\n",
      "Model Number: 342 with model Theta in generation 1 of 4\n",
      "Model Number: 343 with model ARIMA in generation 1 of 4\n",
      "Template Eval Error: ValueError(\"regression_type='User' but future_regressor not supplied\") in model 343 in generation 1: ARIMA\n",
      "Model Number: 344 with model UnobservedComponents in generation 1 of 4\n"
     ]
    }
   ],
   "source": [
    "long = False\n",
    "model = AutoTS(\n",
    "    forecast_length=21,\n",
    "    frequency='infer',\n",
    "    prediction_interval=0.9,\n",
    "    ensemble='auto',\n",
    "    model_list=\"fast_parallel\",  # \"superfast\", \"default\", \"fast_parallel\"\n",
    "    transformer_list=\"fast\",  # \"superfast\",\n",
    "    drop_most_recent=1,\n",
    "    max_generations=4,\n",
    "    num_validations=2,\n",
    "    validation_method=\"backwards\"\n",
    ")\n",
    "model = model.fit(\n",
    "    df_merged2,\n",
    "    date_col='datetime' if long else None,\n",
    "    value_col='value' if long else None,\n",
    "    id_col='series_id' if long else None,\n",
    ")\n",
    "\n",
    "prediction = model.predict()\n",
    "# plot a sample\n",
    "prediction.plot(model.df_wide_numeric,\n",
    "                series=model.df_wide_numeric.columns[0],\n",
    "                start_date=\"2019-01-01\")\n",
    "# Print the details of the best model\n",
    "print(model)\n"
   ]
  },
  {
   "cell_type": "code",
   "execution_count": null,
   "id": "83b31ef6-3d52-4845-bd65-2609d8fd3dae",
   "metadata": {
    "tags": []
   },
   "outputs": [],
   "source": [
    "# point forecasts dataframe\n",
    "forecasts_df = prediction.forecast\n",
    "# upper and lower forecasts\n",
    "forecasts_up, forecasts_low = prediction.upper_forecast, prediction.lower_forecast\n",
    "\n",
    "# accuracy of all tried model results\n",
    "model_results = model.results()\n",
    "# and aggregated from cross validation\n",
    "validation_results = model.results(\"validation\")"
   ]
  },
  {
   "cell_type": "code",
   "execution_count": null,
   "id": "63f7ad6a-ec7a-4f9c-81e8-e184db8ad5ee",
   "metadata": {},
   "outputs": [],
   "source": []
  },
  {
   "cell_type": "code",
   "execution_count": null,
   "id": "ec09ee73-1641-44a7-a630-f9da27373563",
   "metadata": {},
   "outputs": [],
   "source": [
    "validation_results"
   ]
  },
  {
   "cell_type": "code",
   "execution_count": null,
   "id": "8acc4bda-1862-43ea-8a64-ff03762abb54",
   "metadata": {
    "tags": []
   },
   "outputs": [],
   "source": [
    "df_merged2.shape[0]"
   ]
  },
  {
   "cell_type": "code",
   "execution_count": null,
   "id": "011e6044-9a3c-4916-8eb7-6792eb6dbdf7",
   "metadata": {
    "collapsed": true,
    "jupyter": {
     "outputs_hidden": true
    },
    "tags": []
   },
   "outputs": [],
   "source": [
    "target_column = 'Mkt-RF'\n",
    "\n",
    "model = AutoTS(forecast_length=10, frequency='infer', ensemble='simple')\n",
    "\n",
    "model = model.fit(df_merged2, 'Mkt-RF')\n",
    "\n",
    "forecast, conf_int = model.predict(\n",
    "    df_merged2.shape[0],\n",
    "    return_conf_int=True)\n",
    "\n",
    "\n",
    "model.plot(forecast, conf_int=conf_int)\n"
   ]
  },
  {
   "cell_type": "code",
   "execution_count": null,
   "id": "9af1f3bb-5eef-428c-806c-46180388a576",
   "metadata": {},
   "outputs": [],
   "source": []
  }
 ],
 "metadata": {
  "kernelspec": {
   "display_name": "Python 3 (ipykernel)",
   "language": "python",
   "name": "python3"
  },
  "language_info": {
   "codemirror_mode": {
    "name": "ipython",
    "version": 3
   },
   "file_extension": ".py",
   "mimetype": "text/x-python",
   "name": "python",
   "nbconvert_exporter": "python",
   "pygments_lexer": "ipython3",
   "version": "3.11.7"
  }
 },
 "nbformat": 4,
 "nbformat_minor": 5
}
